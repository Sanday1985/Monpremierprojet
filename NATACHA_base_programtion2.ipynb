{
 "cells": [
  {
   "cell_type": "code",
   "execution_count": 340,
   "metadata": {},
   "outputs": [],
   "source": [
    "#Les fonctions lambda\n",
    "##je veux par exemple creer un fonction qui additionne ou multiplie deux nombre, je peux alors creer une fonction lambda\n",
    "## car l'operation d'addition ou de multiplication peut tenir sur une seule ligne\n",
    "\n",
    "Addition = lambda x, y : x+y"
   ]
  },
  {
   "cell_type": "markdown",
   "metadata": {},
   "source": [
    "Voici comment appliquer cette fonction lambda cree "
   ]
  },
  {
   "cell_type": "code",
   "execution_count": 341,
   "metadata": {},
   "outputs": [
    {
     "data": {
      "text/plain": [
       "9"
      ]
     },
     "execution_count": 341,
     "metadata": {},
     "output_type": "execute_result"
    }
   ],
   "source": [
    "Addition(x=5, y= 4)"
   ]
  },
  {
   "cell_type": "code",
   "execution_count": 342,
   "metadata": {},
   "outputs": [],
   "source": [
    "Multiplication = lambda x, y : x*y"
   ]
  },
  {
   "cell_type": "code",
   "execution_count": 343,
   "metadata": {},
   "outputs": [
    {
     "data": {
      "text/plain": [
       "25"
      ]
     },
     "execution_count": 343,
     "metadata": {},
     "output_type": "execute_result"
    }
   ],
   "source": [
    "Multiplication(x= 5, y = 5)"
   ]
  },
  {
   "cell_type": "markdown",
   "metadata": {},
   "source": [
    "Creation d'une fonction classique Addition dont le code ne tient pas sur \n",
    "une seule ligne comme dans la foction lambda precedent. Mais cela nous donnera un meme resultat en terme d'application"
   ]
  },
  {
   "cell_type": "code",
   "execution_count": 344,
   "metadata": {},
   "outputs": [],
   "source": [
    "def Addition_FC(x, y):\n",
    "    resultat = x+y\n",
    "    return resultat "
   ]
  },
  {
   "cell_type": "markdown",
   "metadata": {},
   "source": [
    "L'application est la suivente"
   ]
  },
  {
   "cell_type": "code",
   "execution_count": 345,
   "metadata": {},
   "outputs": [
    {
     "data": {
      "text/plain": [
       "20"
      ]
     },
     "execution_count": 345,
     "metadata": {},
     "output_type": "execute_result"
    }
   ],
   "source": [
    "Addition_FC(x = 5, y = 5)\n",
    "Addition_FC(8, 12)"
   ]
  },
  {
   "cell_type": "markdown",
   "metadata": {},
   "source": [
    "Creer une fonction pour convertir les degres celsus en degres farenheit"
   ]
  },
  {
   "cell_type": "code",
   "execution_count": 346,
   "metadata": {},
   "outputs": [],
   "source": [
    "\n",
    "def conversion(x):\n",
    "   \n",
    "    y = x*9/5+32\n",
    "    resultat = y\n",
    "    return resultat"
   ]
  },
  {
   "cell_type": "code",
   "execution_count": 347,
   "metadata": {},
   "outputs": [
    {
     "data": {
      "text/plain": [
       "35.6"
      ]
     },
     "execution_count": 347,
     "metadata": {},
     "output_type": "execute_result"
    }
   ],
   "source": [
    "conversion(2)"
   ]
  },
  {
   "cell_type": "markdown",
   "metadata": {},
   "source": [
    "LES STRUCTURES DE CONTROLE: if, for, wile\n",
    "\n",
    "La premiere structure de controle à maitriser dans les langages de programmation est: if\n",
    "la synthaxe if(si en francais ) nous permet de mettre des condition lorsque nous programmons"
   ]
  },
  {
   "cell_type": "code",
   "execution_count": 348,
   "metadata": {},
   "outputs": [],
   "source": [
    "#je veut ecrire un programme qui poura identifier les temperatures qui sont superieures à 30 degre\n",
    "# 1)decision simple\n",
    "temperature = 6 #DEFINITION DE LA VARIABLE\n",
    "if temperature > 30: #condition( cette condition doit etre un booleen: True or False)\n",
    "    print(\"il fait chaud\")\n",
    "    \n",
    "    "
   ]
  },
  {
   "cell_type": "code",
   "execution_count": 349,
   "metadata": {},
   "outputs": [
    {
     "name": "stdout",
     "output_type": "stream",
     "text": [
      "il fait froid\n"
     ]
    }
   ],
   "source": [
    "# 2)decisions avec une alternative\n",
    "\n",
    "temperature = 6 #DEFINITION DE LA VARIABLE\n",
    "if temperature > 30: #condition( cette condition doit etre un booleen: True or False)\n",
    "    print(\"il fait chaud\")\n",
    "else:\n",
    "    print(\"il fait froid\") # Alternative"
   ]
  },
  {
   "cell_type": "code",
   "execution_count": 350,
   "metadata": {},
   "outputs": [
    {
     "name": "stdout",
     "output_type": "stream",
     "text": [
      "excellent \n"
     ]
    }
   ],
   "source": [
    "# 3)decisions avec plusieurs alternatives( conditions multiples mettant en jeu une seule variable: Note dans ce cas)\n",
    "#Je veux ecrire un programme qui puisse classer les mentions en fonction des notes\n",
    "\n",
    "#definition de ma variable note\n",
    "Note = \"A\" # premiere etape\n",
    "if Note == \"A\":\n",
    "    print(\"excellent \")\n",
    "elif Note == \"B\":\n",
    "    print(\"bien\")\n",
    "elif Note == \"C\":\n",
    "    print(\"moyen\")\n",
    "else:\n",
    "    print(\"a redoubler d'effort\")\n"
   ]
  },
  {
   "cell_type": "code",
   "execution_count": 351,
   "metadata": {},
   "outputs": [
    {
     "name": "stdout",
     "output_type": "stream",
     "text": [
      "Eligible pour le programme\n"
     ]
    }
   ],
   "source": [
    "#4)Conditions multiples mettant en jeu plusieurs variables\n",
    "#dans l'exemple precedent on a qu'une seule condition qui s'applique pour chaque categorie de note\n",
    "#mais cette fois ci on aura aumoins deux conditions qui s'appliquerons. Dans ce cas, on aura aumoins deux variables\n",
    "# exemple: je souhaite attribuer une bourse aux etudiants qui ont une note superieure à 16 dont l'age est inferieur à 20 ans\n",
    "Age = 20\n",
    "Note = 16\n",
    "if Note >=16 and Age <= 20 :\n",
    "    print(\"Eligible pour le programme\")\n",
    "else:\n",
    "    print(\"n'est pas eligible pour le programme\")"
   ]
  },
  {
   "cell_type": "code",
   "execution_count": 352,
   "metadata": {},
   "outputs": [
    {
     "name": "stdout",
     "output_type": "stream",
     "text": [
      "Eligible\n"
     ]
    }
   ],
   "source": [
    "#5) conditions impriquées\n",
    "Age = 13\n",
    "Note = 18\n",
    "if Age <= 20:\n",
    "    if Note >= 16:\n",
    "        print('Eligible')\n",
    "    else:\n",
    "        print(\"pas de bourse\")\n",
    "else:\n",
    "    print(\"a reprogrammer\")"
   ]
  },
  {
   "cell_type": "code",
   "execution_count": 353,
   "metadata": {},
   "outputs": [],
   "source": [
    "#EXO:ici on va utiliser la notion de definition de fonction et les conditions\n",
    "#Fonction Classer_Age\n",
    "Age1 = 13\n",
    "def Classer_Age(Age1):\n",
    "    if Age1 <= 12:\n",
    "        print(\"c'est un enfant\")\n",
    "    elif Age1 > 12 and Age1 <= 17:\n",
    "        print(\"c'est un adolescent\")\n",
    "    elif Age1 > 18 and Age1 <= 59:\n",
    "        print(\"c'est un adulte\")\n",
    "    elif Age1 >= 60:\n",
    "        print(\"c'est un senior\")\n",
    "    else:\n",
    "        print(\"l'age est invalide\")"
   ]
  },
  {
   "cell_type": "code",
   "execution_count": 354,
   "metadata": {},
   "outputs": [
    {
     "name": "stdout",
     "output_type": "stream",
     "text": [
      "c'est un adolescent\n"
     ]
    }
   ],
   "source": [
    "Classer_Age(16)"
   ]
  },
  {
   "cell_type": "code",
   "execution_count": 355,
   "metadata": {},
   "outputs": [
    {
     "name": "stdout",
     "output_type": "stream",
     "text": [
      "0\n",
      "1\n",
      "2\n",
      "3\n",
      "4\n",
      "5\n",
      "6\n",
      "7\n",
      "8\n",
      "9\n"
     ]
    }
   ],
   "source": [
    "#LES BOUCLES\n",
    "#boucle for\n",
    "for i in range(0, 10, 1):\n",
    "    print(i)"
   ]
  },
  {
   "cell_type": "code",
   "execution_count": 356,
   "metadata": {},
   "outputs": [
    {
     "name": "stdout",
     "output_type": "stream",
     "text": [
      "10\n",
      "9\n",
      "8\n",
      "7\n",
      "6\n",
      "5\n",
      "4\n",
      "3\n",
      "2\n",
      "1\n"
     ]
    }
   ],
   "source": [
    "for i in range(10, 0, -1):\n",
    "    print(i)"
   ]
  },
  {
   "cell_type": "code",
   "execution_count": 357,
   "metadata": {},
   "outputs": [
    {
     "name": "stdout",
     "output_type": "stream",
     "text": [
      "0 est un nombre pair\n",
      "1 est un nombre impair\n",
      "2 est un nombre pair\n",
      "3 est un nombre impair\n",
      "4 est un nombre pair\n",
      "5 est un nombre impair\n",
      "6 est un nombre pair\n",
      "7 est un nombre impair\n",
      "8 est un nombre pair\n",
      "9 est un nombre impair\n"
     ]
    }
   ],
   "source": [
    "# La boucle for impriquée avec if\n",
    "# exemple: je souhaite classer les nombre en nombre pairs et impairs. Ecrivez un programme qui permet de le faire\n",
    "\n",
    "for i in range(0, 10, 1):\n",
    "    if i % 2 == 0: # si le reste de la division de la valeur de la variable i est egale à 0\n",
    "        print(i,\"est un nombre pair\")\n",
    "    else:\n",
    "        print(i,\"est un nombre impair\")\n",
    "    "
   ]
  },
  {
   "cell_type": "code",
   "execution_count": 358,
   "metadata": {},
   "outputs": [
    {
     "name": "stdout",
     "output_type": "stream",
     "text": [
      "1\n",
      "2\n",
      "3\n",
      "4\n",
      "5\n",
      "6\n",
      "7\n",
      "8\n",
      "9\n",
      "10\n"
     ]
    }
   ],
   "source": [
    "#Boucle wile (tant que en francais)\n",
    "# exemple: je veux compter ou afficher les nombre de 1 à 10\n",
    "#ecrire un programme pour le faire\n",
    "Compteur = 0\n",
    "while Compteur < 10:\n",
    "    Compteur = Compteur + 1\n",
    "    print(Compteur)"
   ]
  },
  {
   "cell_type": "markdown",
   "metadata": {},
   "source": [
    "LES TYPES DE DONNEES\n",
    "Quand vous travaillez dans un langage, il faut commencer par comprendre l'ensemble des donnees qui existe\n",
    "Quand on parle des types de donnes il y a un acronyme CRUD qu'il faut connaitre c'est: \n",
    "    1) create qui veut dire creer en francais. Alors il faut chercher a comprendre comment on arrive a creer l'objet, comprendre le mecanisme de creation de l'objet\n",
    "    2) Read qui veut dire lire en francais.Chercher comment on arrive à lire les informations dans l'objet en question\n",
    "    3)Update qui veut dire mettre à jour. Chercher à comprendre comment mettre à jour les informations dans cet objet\n",
    "    4) delate qui veut dire suprimer. Chercher à comprendre comment suprimer les informations dans cet objet\n",
    "voila ce qu'il faut retirepour ce qui est de la ma  nipulation d'objet(listes, bases de donnees, les vecteurs   ....)\n",
    "Le premier objet qu'on utilise souvent en data science est la liste. Quand on est data analyste ou data scientist, on doit manipuler ces objets. Hier on a parler des variables et on avait dit c'etait un contener qui sert à stocker les valeurs de facon dynamique. Mais la variables stock qu'une seule valeur à la fois. Prenons l'exemple de la variable age qui stock l'age d'un individu et à supposer que nous avons besoin de stocker l'age de plusueurs individus à meme temps, alors on fera appel aux listes."
   ]
  },
  {
   "cell_type": "markdown",
   "metadata": {},
   "source": [
    "LES LISTES"
   ]
  },
  {
   "cell_type": "markdown",
   "metadata": {},
   "source": [
    "##CREATE"
   ]
  },
  {
   "cell_type": "code",
   "execution_count": 359,
   "metadata": {},
   "outputs": [
    {
     "name": "stdout",
     "output_type": "stream",
     "text": [
      "[15, 17, 23, 29, 45, 50, 67]\n"
     ]
    },
    {
     "data": {
      "text/plain": [
       "list"
      ]
     },
     "execution_count": 359,
     "metadata": {},
     "output_type": "execute_result"
    }
   ],
   "source": [
    "#Liste des nombres\n",
    "Liste_age = [15,17,23,29,45,50, 67] #ici j'ai ceer un objet(liste) qui a plusueurs elements\n",
    "print(Liste_age) # afficher les elements de la liste\n",
    "type(Liste_age) # afficher le type de la liste"
   ]
  },
  {
   "cell_type": "code",
   "execution_count": 360,
   "metadata": {},
   "outputs": [
    {
     "data": {
      "text/plain": [
       "7"
      ]
     },
     "execution_count": 360,
     "metadata": {},
     "output_type": "execute_result"
    }
   ],
   "source": [
    "#Taille des elements de la liste\n",
    "len(Liste_age)"
   ]
  },
  {
   "cell_type": "code",
   "execution_count": 361,
   "metadata": {},
   "outputs": [
    {
     "name": "stdout",
     "output_type": "stream",
     "text": [
      "['kossi', 'sogoba', 'ulrich', 'belem', 'esther']\n"
     ]
    },
    {
     "data": {
      "text/plain": [
       "list"
      ]
     },
     "execution_count": 361,
     "metadata": {},
     "output_type": "execute_result"
    }
   ],
   "source": [
    "#Liste des chaines de caracteres (je peux ceer une liste qui regroupe les noms de l'ensemble des participants)\n",
    "liste_nom = [\"kossi\", \"sogoba\", \"ulrich\", \"belem\", \"esther\"]\n",
    "print(liste_nom)\n",
    "type(liste_nom)"
   ]
  },
  {
   "cell_type": "code",
   "execution_count": 362,
   "metadata": {},
   "outputs": [
    {
     "name": "stdout",
     "output_type": "stream",
     "text": [
      "[['kossi', 'sogoba', 'ulrich', 'belem', 'esther'], [15, 17, 23, 29, 45, 50, 67]]\n"
     ]
    },
    {
     "data": {
      "text/plain": [
       "2"
      ]
     },
     "execution_count": 362,
     "metadata": {},
     "output_type": "execute_result"
    }
   ],
   "source": [
    "#liste de liste\n",
    "liste = [liste_nom, Liste_age]\n",
    "print(liste)\n",
    "type(liste)\n",
    "len(liste)"
   ]
  },
  {
   "cell_type": "markdown",
   "metadata": {},
   "source": [
    "##READ\n",
    "\n",
    "#NB ce sont les indices ou index qui nous permettent de lire ou avoir acces à des elements d'une liste\n",
    "\n",
    "#pour accecer au prmier element, l'indice c'est 0 et pour acceder au dernier element, l'indice c'est -1"
   ]
  },
  {
   "cell_type": "code",
   "execution_count": 363,
   "metadata": {},
   "outputs": [
    {
     "data": {
      "text/plain": [
       "15"
      ]
     },
     "execution_count": 363,
     "metadata": {},
     "output_type": "execute_result"
    }
   ],
   "source": [
    "#Lire un element au debut\n",
    "#Donc pour lire un element situe à la premiere position de la liste donc à l'indice 0\n",
    "\n",
    "Liste_age = [15,17,23,29,45,50, 67]\n",
    "Liste_age[0]"
   ]
  },
  {
   "cell_type": "code",
   "execution_count": 364,
   "metadata": {},
   "outputs": [
    {
     "data": {
      "text/plain": [
       "67"
      ]
     },
     "execution_count": 364,
     "metadata": {},
     "output_type": "execute_result"
    }
   ],
   "source": [
    "#le dernier element\n",
    "#pemiere approche\n",
    "Liste_age[-1]"
   ]
  },
  {
   "cell_type": "code",
   "execution_count": 365,
   "metadata": {},
   "outputs": [
    {
     "data": {
      "text/plain": [
       "67"
      ]
     },
     "execution_count": 365,
     "metadata": {},
     "output_type": "execute_result"
    }
   ],
   "source": [
    "#deuxieme approche\n",
    "Liste_age[len(Liste_age)-1] # len(Liste_age)-1 donne l'indice du dernier element"
   ]
  },
  {
   "cell_type": "code",
   "execution_count": 366,
   "metadata": {},
   "outputs": [
    {
     "data": {
      "text/plain": [
       "23"
      ]
     },
     "execution_count": 366,
     "metadata": {},
     "output_type": "execute_result"
    }
   ],
   "source": [
    "#lire ou avoir acces à un element à une position quelconque\n",
    "#exemple l'age située à la troisieme position donc à l'indice 2\n",
    "Liste_age[2]"
   ]
  },
  {
   "cell_type": "code",
   "execution_count": 367,
   "metadata": {},
   "outputs": [
    {
     "data": {
      "text/plain": [
       "'kossi'"
      ]
     },
     "execution_count": 367,
     "metadata": {},
     "output_type": "execute_result"
    }
   ],
   "source": [
    "#acceder au premier element de la premiere liste\n",
    "liste[0][0]"
   ]
  },
  {
   "cell_type": "code",
   "execution_count": 368,
   "metadata": {},
   "outputs": [
    {
     "data": {
      "text/plain": [
       "[17, 23, 29]"
      ]
     },
     "execution_count": 368,
     "metadata": {},
     "output_type": "execute_result"
    }
   ],
   "source": [
    "#Lire sur plusieurs positions qui se suivent\n",
    "Liste_age[1:4] #ici ce sont les positions du debut et fin qu'on met et non les indices"
   ]
  },
  {
   "cell_type": "code",
   "execution_count": 369,
   "metadata": {},
   "outputs": [
    {
     "data": {
      "text/plain": [
       "[17, 23]"
      ]
     },
     "execution_count": 369,
     "metadata": {},
     "output_type": "execute_result"
    }
   ],
   "source": [
    "Liste_age[1:3]"
   ]
  },
  {
   "cell_type": "code",
   "execution_count": 370,
   "metadata": {},
   "outputs": [
    {
     "name": "stdout",
     "output_type": "stream",
     "text": [
      "kossi\n",
      "sogoba\n",
      "ulrich\n",
      "belem\n",
      "esther\n"
     ]
    }
   ],
   "source": [
    "#Faire une boucle sur une liste\n",
    "#Exemple, je peut vouloire afficher tous les noms de ma liste_nom ou dans base de donnees\n",
    "#j'utilise par exemple la boucle for\n",
    "for nom in liste_nom:\n",
    "    print(nom)"
   ]
  },
  {
   "cell_type": "markdown",
   "metadata": {},
   "source": [
    "#UPDATE\n"
   ]
  },
  {
   "cell_type": "code",
   "execution_count": 371,
   "metadata": {},
   "outputs": [
    {
     "name": "stdout",
     "output_type": "stream",
     "text": [
      "['Lucien', 'sogoba', 'ulrich', 'belem', 'esther']\n"
     ]
    }
   ],
   "source": [
    "#Modification directe à partir d'un index ou indice\n",
    "liste_nom[0] = 'Lucien'\n",
    "print(liste_nom)"
   ]
  },
  {
   "cell_type": "code",
   "execution_count": 372,
   "metadata": {},
   "outputs": [
    {
     "name": "stdout",
     "output_type": "stream",
     "text": [
      "['Lucien', 'sogoba', 'ulrich', 'belem', 'esther', 'koudjo']\n"
     ]
    }
   ],
   "source": [
    "#Ajouter un element à la fin de la liste(append)\n",
    "liste_nom.append(\"koudjo\")\n",
    "print(liste_nom)"
   ]
  },
  {
   "cell_type": "code",
   "execution_count": 373,
   "metadata": {},
   "outputs": [
    {
     "name": "stdout",
     "output_type": "stream",
     "text": [
      "['Lucien', 'adjo', 'sogoba', 'ulrich', 'belem', 'esther', 'koudjo']\n"
     ]
    }
   ],
   "source": [
    "#Ajouter un element à une position specifique de la liste(insert)\n",
    "liste_nom.insert(1, \"adjo\")\n",
    "print(liste_nom)"
   ]
  },
  {
   "cell_type": "code",
   "execution_count": 374,
   "metadata": {},
   "outputs": [
    {
     "name": "stdout",
     "output_type": "stream",
     "text": [
      "['Lucien', 'sogoba', 'ulrich', 'belem', 'esther', 'koudjo']\n"
     ]
    }
   ],
   "source": [
    "#suprimer un element à un index specifique de la liste (del liste_nom(index))\n",
    "del liste_nom[1]\n",
    "print(liste_nom)"
   ]
  },
  {
   "cell_type": "code",
   "execution_count": 375,
   "metadata": {},
   "outputs": [
    {
     "name": "stdout",
     "output_type": "stream",
     "text": [
      "['Lucien', 'sogoba', 'ulrich', 'belem', 'esther']\n"
     ]
    }
   ],
   "source": [
    "#suprimer un element specifique de la liste sans se referer à son \n",
    "# index mais à l'element lui meme (liste_nom.remove(nom de l'element))\n",
    "liste_nom.remove(\"koudjo\")\n",
    "print(liste_nom)"
   ]
  },
  {
   "cell_type": "code",
   "execution_count": 376,
   "metadata": {},
   "outputs": [
    {
     "data": {
      "text/plain": [
       "'Lucien'"
      ]
     },
     "execution_count": 376,
     "metadata": {},
     "output_type": "execute_result"
    }
   ],
   "source": [
    "#suprimer un element à un index specifique de la liste et retourner \n",
    "# cet element(liste_nom.pop(index))\n",
    "liste_nom.pop(0)"
   ]
  },
  {
   "cell_type": "markdown",
   "metadata": {},
   "source": [
    "#STRING"
   ]
  },
  {
   "cell_type": "code",
   "execution_count": 377,
   "metadata": {},
   "outputs": [
    {
     "data": {
      "text/plain": [
       "'n'"
      ]
     },
     "execution_count": 377,
     "metadata": {},
     "output_type": "execute_result"
    }
   ],
   "source": [
    "#variable\n",
    "nom = \"natacha\"\n",
    "nom[0]"
   ]
  },
  {
   "cell_type": "markdown",
   "metadata": {},
   "source": [
    "LES TUPLES\n",
    "#ce sont les elements ordonnes comme les listes mais qu'on ne peut pas modifier. Ils permettent de mieux gerer les memoires(occupent moins d'espace dans les memoires). Ils sont utilises specifiquement comme des clees dans les dictionnaires "
   ]
  },
  {
   "cell_type": "code",
   "execution_count": 378,
   "metadata": {},
   "outputs": [],
   "source": [
    "#create\n",
    "nom_tuple = (3,6,7,8)"
   ]
  },
  {
   "cell_type": "code",
   "execution_count": 379,
   "metadata": {},
   "outputs": [
    {
     "data": {
      "text/plain": [
       "3"
      ]
     },
     "execution_count": 379,
     "metadata": {},
     "output_type": "execute_result"
    }
   ],
   "source": [
    "#reade\n",
    "#premier element\n",
    "nom_tuple[0]"
   ]
  },
  {
   "cell_type": "code",
   "execution_count": 380,
   "metadata": {},
   "outputs": [
    {
     "data": {
      "text/plain": [
       "8"
      ]
     },
     "execution_count": 380,
     "metadata": {},
     "output_type": "execute_result"
    }
   ],
   "source": [
    "#dernier element\n",
    "nom_tuple[-1]"
   ]
  },
  {
   "cell_type": "code",
   "execution_count": 381,
   "metadata": {},
   "outputs": [
    {
     "data": {
      "text/plain": [
       "(3, 6, 7, 8, 6, 7, 8, 9)"
      ]
     },
     "execution_count": 381,
     "metadata": {},
     "output_type": "execute_result"
    }
   ],
   "source": [
    "#update\n",
    "#on ne peut pas modifier mais on peut ajouter\n",
    "#ajouter les elements\n",
    "nom_tuple + (6,7,8,9)"
   ]
  },
  {
   "cell_type": "code",
   "execution_count": 382,
   "metadata": {},
   "outputs": [],
   "source": [
    "#dalete\n",
    "#ici, on ne peut pas suprimer un element specifique\n",
    "# du tuple mais tout le tuple\n",
    "del nom_tuple"
   ]
  },
  {
   "cell_type": "markdown",
   "metadata": {},
   "source": [
    "UN SET\n",
    "## C\"est une collection d'elements non ordonnes c'est a dire on ne peut pas faire set de 0\n",
    "###ils sont modifiables et unique en python.Chaque element dans un set est distict et ne peut apparaitre qu'une seule fois\n",
    "\n",
    ".Aventages: les sets sont obtimises pour verifier rapîdement si un element est present dans une collection, ce qui les rend ideaux pour les perations comme les unions, intersections et differences d'ensembles"
   ]
  },
  {
   "cell_type": "code",
   "execution_count": 383,
   "metadata": {},
   "outputs": [
    {
     "data": {
      "text/plain": [
       "{4, 5, 6, 7}"
      ]
     },
     "execution_count": 383,
     "metadata": {},
     "output_type": "execute_result"
    }
   ],
   "source": [
    "#create\n",
    "Nom_set = {4,5,7,7,7,6,6} #ici on a ceer le set avec une repetition d'element\n",
    "Nom_set # ici en executant le code, on constate que le set à ete creer mais avec\n",
    "        #les element uniques"
   ]
  },
  {
   "cell_type": "code",
   "execution_count": 384,
   "metadata": {},
   "outputs": [],
   "source": [
    "#read\n",
    "#Nom_set[0] #on ne peut pas effectuer cette operation car les sets ne sont pas ordonnés"
   ]
  },
  {
   "cell_type": "code",
   "execution_count": 385,
   "metadata": {},
   "outputs": [
    {
     "name": "stdout",
     "output_type": "stream",
     "text": [
      "4\n",
      "5\n",
      "6\n",
      "7\n"
     ]
    }
   ],
   "source": [
    "#read(for)\n",
    "#pour pouvoir parcourir un set et afficher ses elements, il faut:\n",
    "for element in Nom_set:\n",
    "    print(element)"
   ]
  },
  {
   "cell_type": "code",
   "execution_count": 386,
   "metadata": {},
   "outputs": [
    {
     "name": "stdout",
     "output_type": "stream",
     "text": [
      "3 n'est pas disponible\n"
     ]
    }
   ],
   "source": [
    "#read(if) pour verifier la presence specifique d'un \n",
    "# element dans le set\n",
    "if 3 in Nom_set:\n",
    "    print(f\"3 est disponible\")\n",
    "else:\n",
    "    print(f\"3 n'est pas disponible\")"
   ]
  },
  {
   "cell_type": "markdown",
   "metadata": {},
   "source": [
    "Exercices sur les listes\n",
    "trouve et remplace automatiquement dans une liste\n",
    "Ecrire un programme python qui parcours une liste predefinie de nombre entiers, recherche un nombre specifique dans cette liste et remplace toutes ses occurences par un autre nombre specifique.\n",
    "\n",
    "##instructions:\n",
    "utiliser la liste suivente des nombres entiers: [12,35,12,9,56,24,36,12,09,24,35,17]\n",
    "##Nombres à rechercher et à remplacer:\n",
    ".Definisser une vaeiable pour le nombre à rechercher et à remplacer dans la liste par exemple:Nombre_recherche=12\n",
    ".Definisser une AUTRE vaeiable pour le nombre qui remplacera les occurences trouvees dans la liste par exemple:Nombre_remplacement=100\n",
    "\n",
    "##Recherche et remplacement:\n",
    "parcourez la liste avec une boucle et à chaque fois que le nombre_recherche est, remplacez le par le nombre_remplacement\n",
    "\n",
    "##Affichage des resultats:\n",
    ".Avant de commencer le processus de remplacement, afficher la liste originale.\n",
    ".Apres avoir effectuer les changements, Affichez la liste modifiee pour montrer les changements effectues."
   ]
  },
  {
   "cell_type": "code",
   "execution_count": 387,
   "metadata": {},
   "outputs": [
    {
     "name": "stdout",
     "output_type": "stream",
     "text": [
      "[12, 35, 12, 9, 56, 24, 36, 12, 89, 24, 35, 12]\n"
     ]
    }
   ],
   "source": [
    "liste = [12,35,12,9,56,24,36,12,89,24,35,12] \n",
    "print(liste)"
   ]
  },
  {
   "cell_type": "code",
   "execution_count": 388,
   "metadata": {},
   "outputs": [
    {
     "name": "stdout",
     "output_type": "stream",
     "text": [
      "l'ancienne liste: [12, 35, 12, 9, 56, 24, 36, 12, 9, 24, 35, 12]\n",
      "nombre_rechercher trover et remplace\n",
      "nombre_rechercher trover et remplace\n",
      "nombre_rechercher trover et remplace\n",
      "nombre_rechercher trover et remplace\n",
      "nouvelle liste: [100, 35, 100, 9, 56, 24, 36, 100, 9, 24, 35, 100]\n"
     ]
    }
   ],
   "source": [
    "#Premiere soulution\n",
    "liste = [12,35,12,9,56,24,36,12,9,24,35,12] \n",
    "Nombre_recherche=12\n",
    "Nombre_remplacement=100\n",
    "print(\"l'ancienne liste:\", liste)\n",
    "for i in range(len(liste)):\n",
    "   if liste[i] == Nombre_recherche:\n",
    "    liste[i] = Nombre_remplacement\n",
    "    print(\"nombre_rechercher trover et remplace\")\n",
    "print(\"nouvelle liste:\", liste)\n"
   ]
  },
  {
   "cell_type": "code",
   "execution_count": 389,
   "metadata": {},
   "outputs": [
    {
     "name": "stdout",
     "output_type": "stream",
     "text": [
      "l'ancienne liste: [12, 35, 12, 9, 56, 24, 36, 12, 9, 24, 35, 12]\n",
      "nouvelle liste: [100, 35, 100, 9, 56, 24, 36, 100, 9, 24, 35, 100]\n"
     ]
    }
   ],
   "source": [
    "#Deuxieme soulution\n",
    "liste = [12,35,12,9,56,24,36,12,9,24,35,12] \n",
    "Nombre_recherche=12\n",
    "Nombre_remplacement=100\n",
    "print(\"l'ancienne liste:\", liste)\n",
    "\n",
    "Compteur = 0\n",
    "for i in liste:\n",
    "   if i == Nombre_recherche:\n",
    "      liste[Compteur] = Nombre_remplacement\n",
    "   Compteur = Compteur + 1\n",
    "    \n",
    "print(\"nouvelle liste:\", liste)\n"
   ]
  },
  {
   "cell_type": "markdown",
   "metadata": {},
   "source": [
    "# LES DICTIONNAIRES\n",
    "Ils sont des paires cles-valeurs. Dans les dictionnaires, il n'y a pas d'ordre. C'est juste un systeme de clees valeurs ou les clees peuvent etres considerees comme des identifiants. Donc a chaque identifiant est associe une valeur et cela empeche les doublons\n",
    ".Aventages: Les dictionnaires sont optimales pour recuperer rapidement des valeurs(informations) losque vous connaissez la cle. Ce qui les rends ideaux pour stocker les donnees qu'il est necessaire de efficassement"
   ]
  },
  {
   "cell_type": "markdown",
   "metadata": {},
   "source": [
    "Create"
   ]
  },
  {
   "cell_type": "code",
   "execution_count": 390,
   "metadata": {},
   "outputs": [],
   "source": [
    "#creation d'un dictionnaire "
   ]
  },
  {
   "cell_type": "code",
   "execution_count": 422,
   "metadata": {},
   "outputs": [],
   "source": [
    "depense_mensuelles = {\"loyer\": 500, \"divertissement\": 200,\n",
    "                        \"sante\": 100, \"deplacement\": 30,\n",
    "                        \"electricite\": 200}"
   ]
  },
  {
   "cell_type": "code",
   "execution_count": 392,
   "metadata": {},
   "outputs": [
    {
     "data": {
      "text/plain": [
       "{'loyer': 500,\n",
       " 'divertissement': 200,\n",
       " 'sante': 100,\n",
       " 'deplacement': 30,\n",
       " 'electricite': 200}"
      ]
     },
     "execution_count": 392,
     "metadata": {},
     "output_type": "execute_result"
    }
   ],
   "source": [
    "depense_mensuelles"
   ]
  },
  {
   "cell_type": "code",
   "execution_count": 393,
   "metadata": {},
   "outputs": [
    {
     "data": {
      "text/plain": [
       "dict"
      ]
     },
     "execution_count": 393,
     "metadata": {},
     "output_type": "execute_result"
    }
   ],
   "source": [
    "type(depense_mensuelles)"
   ]
  },
  {
   "cell_type": "code",
   "execution_count": 394,
   "metadata": {},
   "outputs": [],
   "source": [
    "#depenses de plusieurs mois revient à creer le dictionnaire des dictionnaires\n",
    "\n",
    "depense_janvier = {\"loyer\": 500, \n",
    "                   \"divertissement\": 200,\n",
    "                    \"sante\": 100, \n",
    "                    \"deplacement\": 30,\n",
    "                    \"electricite\": 200}\n",
    "\n",
    "depense_fevrier = {\"loyer\": 500, \n",
    "                   \"divertissement\": 500,\n",
    "                  \"sante\": 200, \n",
    "                  \"deplacement\": 300,\n",
    "                  \"electricite\": 20}\n",
    "\n",
    "depense_mars = {\"loyer\": 300, \n",
    "              \"divertissement\": 100,\n",
    "                \"sante\": 200,\n",
    "                \"deplacement\": 300,\n",
    "                \"electricite\": 400}\n",
    "\n",
    "\n",
    "depense_premiertrimestre = {\"janvier\": depense_janvier,\n",
    "                            \"fevrier\": depense_fevrier,\n",
    "                            \"mars\": depense_mars } \n",
    "# dans les depense_premiertrimestre les cles sont\n",
    "#des mois et les valeurs sont des dictioonaires. Ces \n",
    "# valeurs pouvaient etyres des listes, des tuples, des sets..."
   ]
  },
  {
   "cell_type": "code",
   "execution_count": 395,
   "metadata": {},
   "outputs": [
    {
     "name": "stdout",
     "output_type": "stream",
     "text": [
      "{'janvier': {'loyer': 500, 'divertissement': 200, 'sante': 100, 'deplacement': 30, 'electricite': 200}, 'fevrier': {'loyer': 500, 'divertissement': 500, 'sante': 200, 'deplacement': 300, 'electricite': 20}, 'mars': {'loyer': 300, 'divertissement': 100, 'sante': 200, 'deplacement': 300, 'electricite': 400}}\n"
     ]
    }
   ],
   "source": [
    "print(depense_premiertrimestre)"
   ]
  },
  {
   "cell_type": "code",
   "execution_count": 396,
   "metadata": {},
   "outputs": [
    {
     "data": {
      "text/plain": [
       "3"
      ]
     },
     "execution_count": 396,
     "metadata": {},
     "output_type": "execute_result"
    }
   ],
   "source": [
    "len(depense_premiertrimestre)"
   ]
  },
  {
   "cell_type": "markdown",
   "metadata": {},
   "source": [
    "Read\n",
    "## j'ai mes donnees sous forme d'un dictionnaire, comment j'arrive à les lire en tant que data analyst ou scientist"
   ]
  },
  {
   "cell_type": "code",
   "execution_count": 397,
   "metadata": {},
   "outputs": [
    {
     "data": {
      "text/plain": [
       "500"
      ]
     },
     "execution_count": 397,
     "metadata": {},
     "output_type": "execute_result"
    }
   ],
   "source": [
    "#read\n",
    "#on peut lire à partire d'une cle\n",
    "#on fait: nom_dictionnaire[cle]\n",
    "depense_mensuelles[\"loyer\"]\n",
    "\n"
   ]
  },
  {
   "cell_type": "code",
   "execution_count": 398,
   "metadata": {},
   "outputs": [
    {
     "name": "stdout",
     "output_type": "stream",
     "text": [
      "500\n"
     ]
    }
   ],
   "source": [
    "#je peut recuperer ca dans une variable et afficher:\n",
    "loyer = depense_mensuelles[\"loyer\"]\n",
    "print(loyer)"
   ]
  },
  {
   "cell_type": "code",
   "execution_count": 399,
   "metadata": {},
   "outputs": [
    {
     "data": {
      "text/plain": [
       "{'loyer': 500,\n",
       " 'divertissement': 200,\n",
       " 'sante': 100,\n",
       " 'deplacement': 30,\n",
       " 'electricite': 200}"
      ]
     },
     "execution_count": 399,
     "metadata": {},
     "output_type": "execute_result"
    }
   ],
   "source": [
    "depense_premiertrimestre[\"janvier\"]"
   ]
  },
  {
   "cell_type": "code",
   "execution_count": 400,
   "metadata": {},
   "outputs": [],
   "source": [
    "#tester une autre cle\n",
    "#depense_mensuelles[temp]\n",
    "# ceci retournera une erreur puisque la cle temp n'existe pas dans ce dictinnaire\n",
    "# pour eviter d'afficher une erreur et d'afficher none quand on a pas la \n",
    "#cle, on utilise la methode get\n",
    " \n",
    "                        "
   ]
  },
  {
   "cell_type": "code",
   "execution_count": 401,
   "metadata": {},
   "outputs": [
    {
     "name": "stdout",
     "output_type": "stream",
     "text": [
      "None\n"
     ]
    }
   ],
   "source": [
    "depense_cleinconue = depense_mensuelles.get(\"temp\")\n",
    "print(depense_cleinconue)"
   ]
  },
  {
   "cell_type": "code",
   "execution_count": 402,
   "metadata": {},
   "outputs": [
    {
     "data": {
      "text/plain": [
       "dict_keys(['loyer', 'divertissement', 'sante', 'deplacement', 'electricite'])"
      ]
     },
     "execution_count": 402,
     "metadata": {},
     "output_type": "execute_result"
    }
   ],
   "source": [
    "#obtenir toutes les cles disponibles dans le dictionnaire\n",
    "\n",
    "depense_mensuelles.keys()"
   ]
  },
  {
   "cell_type": "code",
   "execution_count": 403,
   "metadata": {},
   "outputs": [
    {
     "data": {
      "text/plain": [
       "200"
      ]
     },
     "execution_count": 403,
     "metadata": {},
     "output_type": "execute_result"
    }
   ],
   "source": [
    "# acceder à une cle specifique\n",
    "#depense_mensueeles.keys() donne toutes les cles du dictionnaire\n",
    "#ces cles sont rangees par index. Mais aves les dictionnaire, on ne peut\n",
    "#pas utilser l'index d'une cle pour acceder à la valeur\n",
    "#donc necessite de trnsformer le dict_keys(depense_mensueeles.keys()) en liste\n",
    "# comme suite puis l'annexer de l'index d'une cle specique voulue pour avoir \n",
    "#sa valeur\n",
    "\n",
    "depense_mensuelles[list(depense_mensuelles.keys())[1]] \n",
    "\n",
    "# avec ce code, on peut acceder à n'importe quelle valeur en introduisant\n",
    "#l'index de sa cle en faisant nom_dictionnaire.keys()\n",
    "#donc quand on fait nom_dictionnaire.keys(), on obtient un dictionnaire\n",
    "#des cles de valeurs et leurs index (dict_keys(['loyer', 'divertissement', 'sante', 'deplacement', 'electricite']))\n",
    "#apres ca, on peut utiliser soit par les cles pour acceder aux \n",
    "# valeurs par la formule: depense_premiertrimestre[\"cles\"]\n",
    "#ou par l'index des cles par la formule: depense_mensueeles[list(depense_mensueeles.keys())[1]]\n"
   ]
  },
  {
   "cell_type": "code",
   "execution_count": 404,
   "metadata": {},
   "outputs": [
    {
     "data": {
      "text/plain": [
       "dict_values([500, 200, 100, 30, 200])"
      ]
     },
     "execution_count": 404,
     "metadata": {},
     "output_type": "execute_result"
    }
   ],
   "source": [
    "#Obtenir les valeurs\n",
    "#on peut toutefois avoir besoins d'obtenir les valeurs sans avoir les cles\n",
    "#on passe par la methode value\n",
    "\n",
    "depense_mensuelles.values()"
   ]
  },
  {
   "cell_type": "code",
   "execution_count": 405,
   "metadata": {},
   "outputs": [
    {
     "data": {
      "text/plain": [
       "dict_items([('loyer', 500), ('divertissement', 200), ('sante', 100), ('deplacement', 30), ('electricite', 200)])"
      ]
     },
     "execution_count": 405,
     "metadata": {},
     "output_type": "execute_result"
    }
   ],
   "source": [
    "#obtenir les itms(à meme temps la clee et la valeur)\n",
    "\n",
    "depense_mensuelles.items()"
   ]
  },
  {
   "cell_type": "code",
   "execution_count": 406,
   "metadata": {},
   "outputs": [
    {
     "data": {
      "text/plain": [
       "5"
      ]
     },
     "execution_count": 406,
     "metadata": {},
     "output_type": "execute_result"
    }
   ],
   "source": [
    "#taille du dictionnaire\n",
    "len(depense_mensuelles)"
   ]
  },
  {
   "cell_type": "markdown",
   "metadata": {},
   "source": [
    "#update"
   ]
  },
  {
   "cell_type": "code",
   "execution_count": 407,
   "metadata": {},
   "outputs": [],
   "source": [
    "#update\n",
    "#mettre à jour la valeur d'une cle dans le dictionnaire\n",
    "\n",
    "depense_mensuelles[\"loyer\"] = 600"
   ]
  },
  {
   "cell_type": "code",
   "execution_count": 417,
   "metadata": {},
   "outputs": [
    {
     "name": "stdout",
     "output_type": "stream",
     "text": [
      "{'loyer': 500, 'divertissement': 200, 'sante': 100, 'deplacement': 30, 'electricite': 200}\n"
     ]
    }
   ],
   "source": [
    "print(depense_mensuelles)"
   ]
  },
  {
   "cell_type": "code",
   "execution_count": 423,
   "metadata": {},
   "outputs": [],
   "source": [
    "#ajouter un nouvel element dans le dictionnaire\n",
    "\n",
    "depense_mensuelles[\"vetements\"] = 700"
   ]
  },
  {
   "cell_type": "code",
   "execution_count": 424,
   "metadata": {},
   "outputs": [
    {
     "name": "stdout",
     "output_type": "stream",
     "text": [
      "{'loyer': 500, 'divertissement': 200, 'sante': 100, 'deplacement': 30, 'electricite': 200, 'vetements': 700}\n"
     ]
    }
   ],
   "source": [
    "print(depense_mensuelles)"
   ]
  },
  {
   "cell_type": "markdown",
   "metadata": {},
   "source": [
    "DELATE"
   ]
  },
  {
   "cell_type": "code",
   "execution_count": 425,
   "metadata": {},
   "outputs": [
    {
     "name": "stdout",
     "output_type": "stream",
     "text": [
      "{'loyer': 500, 'divertissement': 200, 'sante': 100, 'deplacement': 30, 'electricite': 200}\n"
     ]
    }
   ],
   "source": [
    "#delate\n",
    "\n",
    "del depense_mensuelles[\"vetements\"]\n",
    "print(depense_mensuelles)"
   ]
  }
 ],
 "metadata": {
  "kernelspec": {
   "display_name": "base",
   "language": "python",
   "name": "python3"
  },
  "language_info": {
   "codemirror_mode": {
    "name": "ipython",
    "version": 3
   },
   "file_extension": ".py",
   "mimetype": "text/x-python",
   "name": "python",
   "nbconvert_exporter": "python",
   "pygments_lexer": "ipython3",
   "version": "3.10.9"
  }
 },
 "nbformat": 4,
 "nbformat_minor": 2
}
